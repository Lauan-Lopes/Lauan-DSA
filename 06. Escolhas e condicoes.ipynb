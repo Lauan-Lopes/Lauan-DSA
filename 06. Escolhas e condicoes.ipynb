{
 "cells": [
  {
   "cell_type": "markdown",
   "metadata": {},
   "source": [
    "06. Escolhas e condicoes"
   ]
  },
  {
   "cell_type": "markdown",
   "metadata": {},
   "source": [
    "06.02. Condicoes"
   ]
  },
  {
   "cell_type": "code",
   "execution_count": 2,
   "metadata": {},
   "outputs": [
    {
     "data": {
      "text/plain": [
       "True"
      ]
     },
     "execution_count": 2,
     "metadata": {},
     "output_type": "execute_result"
    }
   ],
   "source": [
    "# igual\n",
    "1==1"
   ]
  },
  {
   "cell_type": "code",
   "execution_count": 3,
   "metadata": {},
   "outputs": [
    {
     "data": {
      "text/plain": [
       "False"
      ]
     },
     "execution_count": 3,
     "metadata": {},
     "output_type": "execute_result"
    }
   ],
   "source": [
    "# diferente\n",
    "1 != 1"
   ]
  },
  {
   "cell_type": "code",
   "execution_count": 4,
   "metadata": {},
   "outputs": [
    {
     "data": {
      "text/plain": [
       "True"
      ]
     },
     "execution_count": 4,
     "metadata": {},
     "output_type": "execute_result"
    }
   ],
   "source": [
    "# maior\n",
    "5 > 3"
   ]
  },
  {
   "cell_type": "code",
   "execution_count": 6,
   "metadata": {},
   "outputs": [
    {
     "data": {
      "text/plain": [
       "False"
      ]
     },
     "execution_count": 6,
     "metadata": {},
     "output_type": "execute_result"
    }
   ],
   "source": [
    "# maior ou igual\n",
    "5 >= 7"
   ]
  },
  {
   "cell_type": "code",
   "execution_count": 7,
   "metadata": {},
   "outputs": [
    {
     "data": {
      "text/plain": [
       "True"
      ]
     },
     "execution_count": 7,
     "metadata": {},
     "output_type": "execute_result"
    }
   ],
   "source": [
    "# menor\n",
    "5 < 7"
   ]
  },
  {
   "cell_type": "code",
   "execution_count": 8,
   "metadata": {},
   "outputs": [
    {
     "data": {
      "text/plain": [
       "True"
      ]
     },
     "execution_count": 8,
     "metadata": {},
     "output_type": "execute_result"
    }
   ],
   "source": [
    "# menor ou igual\n",
    "7 <= 7"
   ]
  },
  {
   "cell_type": "code",
   "execution_count": 12,
   "metadata": {},
   "outputs": [
    {
     "data": {
      "text/plain": [
       "True"
      ]
     },
     "execution_count": 12,
     "metadata": {},
     "output_type": "execute_result"
    }
   ],
   "source": [
    "# esta dentro\n",
    "lista = [4,5,6,7,8,9]\n",
    "4 in lista"
   ]
  },
  {
   "cell_type": "markdown",
   "metadata": {},
   "source": [
    "06.03. IF Else"
   ]
  },
  {
   "cell_type": "code",
   "execution_count": 14,
   "metadata": {},
   "outputs": [
    {
     "name": "stdout",
     "output_type": "stream",
     "text": [
      "Voce nao foi aprovado. Volte estudar!\n"
     ]
    }
   ],
   "source": [
    "# if\n",
    "nota = 7.5\n",
    "if nota >= 9:\n",
    "    print(\"Voce foi aprovado. Parabens!\")\n",
    "else:\n",
    "    print(\"Voce nao foi aprovado. Volte estudar!\")\n"
   ]
  },
  {
   "cell_type": "code",
   "execution_count": 17,
   "metadata": {},
   "outputs": [],
   "source": [
    "# if sem else\n",
    "nota = 5\n",
    "if nota >= 9:\n",
    "    print(\"Voce foi aprovado. Parabens!\")"
   ]
  },
  {
   "cell_type": "code",
   "execution_count": 22,
   "metadata": {},
   "outputs": [
    {
     "name": "stdout",
     "output_type": "stream",
     "text": [
      "Reprovado! Volte estudar!\n"
     ]
    }
   ],
   "source": [
    "# elif\n",
    "nota = 5.8\n",
    "if nota >= 9:\n",
    "    print(\"Voce obteve uma nota A.\")\n",
    "elif nota >= 8:\n",
    "    print(\"Voce obteve uma nota B.\")\n",
    "elif nota >= 6:\n",
    "    print(\"Voce obteve uma nota C.\")\n",
    "else:\n",
    "    print(\"Reprovado! Volte estudar!\")"
   ]
  },
  {
   "cell_type": "code",
   "execution_count": 28,
   "metadata": {},
   "outputs": [
    {
     "name": "stdout",
     "output_type": "stream",
     "text": [
      "Tente novamente! O numero 18 nao foi sorteado!\n"
     ]
    }
   ],
   "source": [
    "# in\n",
    "\n",
    "# em uma rifa com 10 numeros entre 5 e 20, escolha um numero para ser sorteado\n",
    "\n",
    "numero = 18\n",
    "\n",
    "rifa = [19, 5, 17, 11, 12, 10, 15, 20, 8, 12]\n",
    "\n",
    "if numero in rifa: \n",
    "    print(f\"Parabens! O numero {numero} foi sorteado!\")\n",
    "else: \n",
    "    print(f\"Tente novamente! O numero {numero} nao foi sorteado!\")\n"
   ]
  },
  {
   "cell_type": "code",
   "execution_count": 33,
   "metadata": {},
   "outputs": [
    {
     "name": "stdout",
     "output_type": "stream",
     "text": [
      "Parabens! O numero 5 foi sorteado!\n"
     ]
    }
   ],
   "source": [
    "# or = |\n",
    "\n",
    "# em uma rifa com 10 numeros entre 5 e 20, escolha um numero para ser sorteado\n",
    "\n",
    "# adicionando outra condicao\n",
    "\n",
    "numero = 5\n",
    "\n",
    "rifa = [19, 5, 17, 11, 12, 10, 15, 20, 8, 12]\n",
    "\n",
    "if numero < 5 or numero > 20:\n",
    "    print(f\"Atencao! O numero {numero} nao esta no intervalo solicitado\")\n",
    "elif numero in rifa:\n",
    "    print(f\"Parabens! O numero {numero} foi sorteado!\")\n",
    "else: \n",
    "    print(f\"Tente novamente! O numero {numero} nao foi sorteado!\")"
   ]
  },
  {
   "cell_type": "code",
   "execution_count": 40,
   "metadata": {},
   "outputs": [
    {
     "name": "stdout",
     "output_type": "stream",
     "text": [
      "Parabens! O numero 5 foi sorteado!\n"
     ]
    }
   ],
   "source": [
    "# and = &\n",
    "\n",
    "# adicionando outra condicao\n",
    "\n",
    "numero = 5\n",
    "\n",
    "rifa = [19, 5, 17, 11, 12, 10, 15, 20, 8, 12]\n",
    "if numero <= 5 and numero >= 20:\n",
    "    print(f\"Atencao! O numero {numero} nao esta no intervalo solicitado\")\n",
    "elif numero in rifa:\n",
    "    print(f\"Parabens! O numero {numero} foi sorteado!\")\n",
    "else: \n",
    "    print(f\"Tente novamente! O numero {numero} nao foi sorteado!\")"
   ]
  },
  {
   "cell_type": "markdown",
   "metadata": {},
   "source": [
    "06.04. Inline IF"
   ]
  },
  {
   "cell_type": "code",
   "execution_count": 45,
   "metadata": {},
   "outputs": [
    {
     "data": {
      "text/plain": [
       "'Maior de idade'"
      ]
     },
     "execution_count": 45,
     "metadata": {},
     "output_type": "execute_result"
    }
   ],
   "source": [
    "# Inline IF\n",
    "\n",
    "idade = 18\n",
    "\n",
    "mensagem = \"Maior de idade\" if idade >= 18 else \"Menor de idade\"\n",
    "\n",
    "if idade >= 18:\n",
    "    mensagem = \"Maior de idade\"\n",
    "else:\n",
    "    mensagem = \"Menor de idade\"\n",
    "\n",
    "mensagem"
   ]
  },
  {
   "cell_type": "markdown",
   "metadata": {},
   "source": [
    "06.05. For Loop\n"
   ]
  },
  {
   "cell_type": "code",
   "execution_count": 49,
   "metadata": {},
   "outputs": [
    {
     "name": "stdout",
     "output_type": "stream",
     "text": [
      "Banana\n",
      "Maca\n",
      "Laranja\n"
     ]
    }
   ],
   "source": [
    "# Iterar por uma lista\n",
    "\n",
    "cestaDefrutas = [\n",
    "    \"Banana\",\n",
    "    \"Maca\",\n",
    "    \"Laranja\"\n",
    "]\n",
    "\n",
    "for fruta in cestaDefrutas:\n",
    "    print(fruta)"
   ]
  },
  {
   "cell_type": "code",
   "execution_count": 53,
   "metadata": {},
   "outputs": [
    {
     "name": "stdout",
     "output_type": "stream",
     "text": [
      "1 1\n",
      "2 3\n",
      "3 6\n",
      "4 10\n",
      "5 15\n",
      "6 21\n"
     ]
    },
    {
     "data": {
      "text/plain": [
       "21"
      ]
     },
     "execution_count": 53,
     "metadata": {},
     "output_type": "execute_result"
    }
   ],
   "source": [
    "# Iterar por um intervalo de numeros\n",
    "\n",
    "numeros = [1,2,3,4,5,6]\n",
    "\n",
    "acumulado = 0\n",
    "\n",
    "#for numero in numeros:\n",
    "for numero in range(1, 7):\n",
    "    acumulado += numero\n",
    "    print(numero, acumulado)\n",
    "acumulado"
   ]
  },
  {
   "cell_type": "code",
   "execution_count": 56,
   "metadata": {},
   "outputs": [
    {
     "name": "stdout",
     "output_type": "stream",
     "text": [
      "P\n",
      "y\n",
      "t\n",
      "h\n",
      "o\n",
      "n\n"
     ]
    }
   ],
   "source": [
    "# Iterar por uma string\n",
    "\n",
    "palavra = \"Python\"\n",
    "\n",
    "for letra in palavra:\n",
    "    print(letra)"
   ]
  },
  {
   "cell_type": "markdown",
   "metadata": {},
   "source": [
    "06.06. While Loop"
   ]
  },
  {
   "cell_type": "code",
   "execution_count": 63,
   "metadata": {},
   "outputs": [
    {
     "name": "stdout",
     "output_type": "stream",
     "text": [
      "5\n",
      "4\n",
      "3\n",
      "2\n",
      "1\n"
     ]
    }
   ],
   "source": [
    "# Contagem regressiva\n",
    "\n",
    "contador = 5\n",
    "\n",
    "while contador > 0:\n",
    "    print(contador)\n",
    "    contador -= 1\n"
   ]
  },
  {
   "cell_type": "code",
   "execution_count": 67,
   "metadata": {},
   "outputs": [
    {
     "name": "stdout",
     "output_type": "stream",
     "text": [
      "0\n",
      "3\n",
      "6\n",
      "8\n",
      "O total de 11 e igual ou maior que o limite de 10\n"
     ]
    }
   ],
   "source": [
    "# Soma ate certo valor\n",
    "\n",
    "soma = 0\n",
    "limite = 10\n",
    "\n",
    "while soma < limite:\n",
    "    print(soma)\n",
    "    numero = int(input(\"Digite um numero\"))\n",
    "    soma += numero\n",
    "print(f\"O total de {soma} e igual ou maior que o limite de {limite}\")"
   ]
  },
  {
   "cell_type": "code",
   "execution_count": 68,
   "metadata": {},
   "outputs": [
    {
     "name": "stdout",
     "output_type": "stream",
     "text": [
      "Tente um numero maior.\n",
      "Tente um numero menor.\n",
      "Tente um numero menor.\n",
      "Tente um numero menor.\n",
      "Tente um numero menor.\n",
      "Parabens! Voce acertou em 6 tentativas.\n"
     ]
    }
   ],
   "source": [
    "# Adivinhe o numero\n",
    "\n",
    "numero_secreto = 42\n",
    "tentativa = 0\n",
    "\n",
    "while True:\n",
    "    palpite = int(input(\"Adivinhe o numero: \"))\n",
    "    tentativa += 1\n",
    "\n",
    "    if palpite == numero_secreto:\n",
    "        print(f\"Parabens! Voce acertou em {tentativa} tentativas.\")\n",
    "        break\n",
    "    elif palpite < numero_secreto:\n",
    "        print(\"Tente um numero maior.\")\n",
    "    else:\n",
    "        print(\"Tente um numero menor.\")"
   ]
  },
  {
   "cell_type": "markdown",
   "metadata": {},
   "source": [
    "06.07. Break"
   ]
  },
  {
   "cell_type": "code",
   "execution_count": 69,
   "metadata": {},
   "outputs": [
    {
     "name": "stdout",
     "output_type": "stream",
     "text": [
      "Banana\n",
      "Maca\n",
      "Laranja\n",
      "Encontramos a laranja. Vamos parar o loop\n"
     ]
    }
   ],
   "source": [
    "# Break\n",
    "\n",
    "cestaDefrutas = [\"Banana\",\"Maca\",\"Laranja\", \"uva\", \"morango\"]\n",
    "for fruta in cestaDefrutas:\n",
    "    print(fruta)\n",
    "\n",
    "    if fruta == \"Laranja\":\n",
    "        print(\"Encontramos a laranja. Vamos parar o loop\")\n",
    "        break"
   ]
  },
  {
   "cell_type": "markdown",
   "metadata": {},
   "source": [
    "06.08. Continue\n"
   ]
  },
  {
   "cell_type": "code",
   "execution_count": 72,
   "metadata": {},
   "outputs": [
    {
     "name": "stdout",
     "output_type": "stream",
     "text": [
      "Banana\n",
      "Maca\n",
      "Encontramos a laranja! Vemaos pular para a proxima iteracao.\n",
      "uva\n",
      "morango\n"
     ]
    }
   ],
   "source": [
    "# Continue\n",
    "\n",
    "cestaDefrutas = [\"Banana\",\"Maca\",\"Laranja\", \"uva\", \"morango\"]\n",
    "\n",
    "for fruta in cestaDefrutas:\n",
    "    if fruta == \"Laranja\":\n",
    "        print(\"Encontramos a laranja! Vemaos pular para a proxima iteracao.\")\n",
    "        continue \n",
    "    print(fruta)\n"
   ]
  },
  {
   "cell_type": "markdown",
   "metadata": {},
   "source": [
    "06.09. Try Except\n"
   ]
  },
  {
   "cell_type": "code",
   "execution_count": 74,
   "metadata": {},
   "outputs": [
    {
     "name": "stdout",
     "output_type": "stream",
     "text": [
      "Acumulado: 0\n",
      "Valor informado nao valido\n",
      "Acumulado: 0\n",
      "Numero: 15\n"
     ]
    }
   ],
   "source": [
    "# Try Except\n",
    "\n",
    "limite = 10\n",
    "acumulado = 0\n",
    "\n",
    "while acumulado < limite:\n",
    "    try:\n",
    "        \n",
    "        print(f\"Acumulado: {acumulado}\")\n",
    "        numero = int(input(\"Informe um numero\"))\n",
    "        print(f\"Numero: {numero}\")\n",
    "        acumulado += numero\n",
    "\n",
    "    except:\n",
    "        print(\"Valor informado nao valido\")"
   ]
  },
  {
   "cell_type": "code",
   "execution_count": 93,
   "metadata": {},
   "outputs": [
    {
     "name": "stdout",
     "output_type": "stream",
     "text": [
      "Quantidade de alunos que obtiveram nota igual ou superior a 7 foram 21 alunos\n"
     ]
    }
   ],
   "source": [
    "# Exercicio: Em uma sala de aula, ha 30 alunos. O professor deseja saber quantos alunos obtiveram nota igual ou superior a 7 em uma prova recentemente.\n",
    "\n",
    "notas_alunos = [6,7,8,9,5,6,7,8,4,7,6,8,9,10,8,7,6,5,7,8,9,10,6,7,8,9,6,7,8,9]\n",
    "contagem = 0\n",
    "for nota in notas_alunos:\n",
    "    if nota >= 7:\n",
    "        contagem += 1\n",
    "\n",
    "print(f\"Quantidade de alunos que obtiveram nota igual ou superior a 7 foram {contagem} alunos\")"
   ]
  }
 ],
 "metadata": {
  "kernelspec": {
   "display_name": "venv1",
   "language": "python",
   "name": "python3"
  },
  "language_info": {
   "codemirror_mode": {
    "name": "ipython",
    "version": 3
   },
   "file_extension": ".py",
   "mimetype": "text/x-python",
   "name": "python",
   "nbconvert_exporter": "python",
   "pygments_lexer": "ipython3",
   "version": "3.12.6"
  }
 },
 "nbformat": 4,
 "nbformat_minor": 2
}
