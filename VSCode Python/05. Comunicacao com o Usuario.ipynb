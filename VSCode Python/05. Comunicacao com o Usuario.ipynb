{
 "cells": [
  {
   "cell_type": "markdown",
   "metadata": {},
   "source": [
    "5. Comunicacao com o Usuario"
   ]
  },
  {
   "cell_type": "markdown",
   "metadata": {},
   "source": [
    "05.02. Input"
   ]
  },
  {
   "cell_type": "code",
   "execution_count": 15,
   "metadata": {},
   "outputs": [
    {
     "data": {
      "text/plain": [
       "('Lauan', 'Lopes')"
      ]
     },
     "execution_count": 15,
     "metadata": {},
     "output_type": "execute_result"
    }
   ],
   "source": [
    "# ele faz eu usar a barra la em cima para digitar meu nome e sobrenome e imprimir, fica rodando o codigo ate eu executar a acao.\n",
    "\n",
    "primeiroNome = input(\"Informe seu nome: \")\n",
    "sobreNome = input(\"Informe seu sobrenome: \")\n",
    "primeiroNome, sobreNome"
   ]
  },
  {
   "cell_type": "markdown",
   "metadata": {},
   "source": [
    "05.03. Print"
   ]
  },
  {
   "cell_type": "code",
   "execution_count": 14,
   "metadata": {},
   "outputs": [
    {
     "name": "stdout",
     "output_type": "stream",
     "text": [
      "Olá Lauan Lopes. Seja bem, vindo(a)!\n"
     ]
    }
   ],
   "source": [
    "# concatenando o texto com as variaveis, obs: as variaveis tem que ficar nas chaves, tipo de dado de dicionario.\n",
    "\n",
    "print(f\"Olá {primeiroNome} {sobreNome}. Seja bem, vindo(a)!\")"
   ]
  },
  {
   "cell_type": "markdown",
   "metadata": {},
   "source": [
    "05.04. Triple Quotes"
   ]
  },
  {
   "cell_type": "code",
   "execution_count": 12,
   "metadata": {},
   "outputs": [
    {
     "name": "stdout",
     "output_type": "stream",
     "text": [
      "  \n",
      "Este texto permite várias linhas.\n",
      "Veja o exemplo após imprimir com a funcao print()\n",
      "teste \n",
      "teste2\n",
      "teste3\n",
      "\n"
     ]
    }
   ],
   "source": [
    "# imprime o texto exatamente como está escrito com a quebra de texto, ou seja, com os paragrafos\n",
    "# \"\"\" # '''\n",
    "\n",
    "texto = \"\"\"  \n",
    "Este texto permite várias linhas.\n",
    "Veja o exemplo após imprimir com a funcao print()\n",
    "teste \n",
    "teste2\n",
    "teste3\n",
    "\"\"\"\n",
    "print(texto)"
   ]
  },
  {
   "cell_type": "markdown",
   "metadata": {},
   "source": [
    "05.05 Escape Characters"
   ]
  },
  {
   "cell_type": "code",
   "execution_count": 23,
   "metadata": {},
   "outputs": [
    {
     "name": "stdout",
     "output_type": "stream",
     "text": [
      "\t Ola \t Mundo!\n"
     ]
    }
   ],
   "source": [
    "# Caracteres especiais que tem algumas funcoes especificas\n",
    "\n",
    "# \\t = tab\n",
    "\n",
    "texto = \"\\t Ola \\t Mundo!\"\n",
    "\n",
    "# texto\n",
    "\n",
    "print(texto)\n",
    "\n"
   ]
  },
  {
   "cell_type": "code",
   "execution_count": 25,
   "metadata": {},
   "outputs": [
    {
     "name": "stdout",
     "output_type": "stream",
     "text": [
      "Ola\n",
      "mundo!\n"
     ]
    }
   ],
   "source": [
    "# \\n = nova linha \n",
    "\n",
    "texto = \"Ola\\nmundo!\"\n",
    "\n",
    "# texto\n",
    "\n",
    "print(texto)"
   ]
  },
  {
   "cell_type": "code",
   "execution_count": 27,
   "metadata": {},
   "outputs": [
    {
     "name": "stdout",
     "output_type": "stream",
     "text": [
      "10 \\ 5 = 2\n"
     ]
    }
   ],
   "source": [
    "# \\\\ = \\\n",
    "\n",
    "texto = \"10 \\\\ 5 = 2\"\n",
    "print(texto)"
   ]
  },
  {
   "cell_type": "code",
   "execution_count": 29,
   "metadata": {},
   "outputs": [
    {
     "name": "stdout",
     "output_type": "stream",
     "text": [
      "Eu tenho 5' 10\" \n"
     ]
    }
   ],
   "source": [
    "# \\ \" = \"\n",
    "\n",
    "texto = \"Eu tenho 5' 10\\\" \"\n",
    "print(texto)"
   ]
  },
  {
   "cell_type": "markdown",
   "metadata": {},
   "source": [
    "#### Lista de caracteres de escape em python\n",
    "\n",
    "\\n: Nova Linha <br>\n",
    "\\t: Tabulacao <br>\n",
    "\\': Aspa simples <br>\n",
    "\\\": Aspa dupla <br>\n",
    "\\\\: Barra invertida <br>\n",
    "\\b: Retrocesso (backspace) <br>\n",
    "\\r: Retorno de carro <br>\n",
    "\\f: Avanco de pagina <br>\n",
    "\\v: Tabulacao vertical <br>\n",
    "\\ooo: Representacao octal (onde \"ooo\" sao digitos octais) <br>\n",
    "\\xhh: REpresentacao hexadecimal (onde \"hh\" sao digitos hexadecimais) <br>\n",
    "\n",
    "\n",
    "\n"
   ]
  }
 ],
 "metadata": {
  "kernelspec": {
   "display_name": "venv1",
   "language": "python",
   "name": "python3"
  },
  "language_info": {
   "codemirror_mode": {
    "name": "ipython",
    "version": 3
   },
   "file_extension": ".py",
   "mimetype": "text/x-python",
   "name": "python",
   "nbconvert_exporter": "python",
   "pygments_lexer": "ipython3",
   "version": "3.12.6"
  }
 },
 "nbformat": 4,
 "nbformat_minor": 2
}
