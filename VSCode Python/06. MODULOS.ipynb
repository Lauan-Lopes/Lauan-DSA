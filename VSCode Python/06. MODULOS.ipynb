{
 "cells": [
  {
   "cell_type": "markdown",
   "metadata": {},
   "source": [
    "#08. Modulos"
   ]
  },
  {
   "cell_type": "code",
   "execution_count": 1,
   "metadata": {},
   "outputs": [],
   "source": [
    "import meuPrimeiroModulo"
   ]
  },
  {
   "cell_type": "code",
   "execution_count": 3,
   "metadata": {},
   "outputs": [
    {
     "data": {
      "text/plain": [
       "['Troca de Oleo', 'Alinhamento']"
      ]
     },
     "execution_count": 3,
     "metadata": {},
     "output_type": "execute_result"
    }
   ],
   "source": [
    "pedido_servico = [\"Troca de Oleo\", \"Alinhamento\"]\n",
    "pedido_servico"
   ]
  },
  {
   "cell_type": "code",
   "execution_count": 7,
   "metadata": {},
   "outputs": [
    {
     "name": "stdout",
     "output_type": "stream",
     "text": [
      "Lauan Car Auto Center\n",
      "------------------------------------\n",
      "Itens de manutencao:\n",
      "Troca de Oleo R$50 +- Tempo:30 min.\n",
      "Alinhamento R$60 +- Tempo:40 min.\n",
      "------------------------------------\n",
      "Valor total = R$ 110\n",
      "Tempo total = 70 minutos\n"
     ]
    }
   ],
   "source": [
    "#Chama meu modulo com a funcao de fazer o pedido de manutencao\n",
    "\n",
    "meuPrimeiroModulo.fazer_pedido_manutencao(pedido_servico)\n",
    "\n",
    "#ou\n",
    "\n",
    "#meuPrimeiroModulo.fazer_pedido_manutencao([\"Troca de Oleo\", \"Alinhamento\"])"
   ]
  },
  {
   "cell_type": "code",
   "execution_count": null,
   "metadata": {},
   "outputs": [],
   "source": []
  }
 ],
 "metadata": {
  "kernelspec": {
   "display_name": "venv1",
   "language": "python",
   "name": "python3"
  },
  "language_info": {
   "codemirror_mode": {
    "name": "ipython",
    "version": 3
   },
   "file_extension": ".py",
   "mimetype": "text/x-python",
   "name": "python",
   "nbconvert_exporter": "python",
   "pygments_lexer": "ipython3",
   "version": "3.12.6"
  }
 },
 "nbformat": 4,
 "nbformat_minor": 2
}
