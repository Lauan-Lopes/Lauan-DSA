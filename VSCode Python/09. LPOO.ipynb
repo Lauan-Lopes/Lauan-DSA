{
 "cells": [
  {
   "cell_type": "markdown",
   "metadata": {},
   "source": [
    "LPOO (LINGUAGEM DE PROGRAMACAO ORIENTADA A OBJETOS)\n",
    "\n",
    "Nome da classe: Carro\n",
    "\n",
    "Construtor __init__()\n",
    "\n",
    "Atributos:\n",
    "- modelo\n",
    "- marca\n",
    "- cor\n",
    "- ano\n",
    "\n",
    "Metodos:\n",
    "- ligar o motor\n",
    "- desligar o motor\n",
    "- obter informacoes\n",
    "\n",
    "Metodos sao funcoes dentro das classes, ditam o comportamento da classe."
   ]
  },
  {
   "cell_type": "code",
   "execution_count": 21,
   "metadata": {},
   "outputs": [],
   "source": [
    "from MinhasClasses import Carro"
   ]
  },
  {
   "cell_type": "code",
   "execution_count": 22,
   "metadata": {},
   "outputs": [],
   "source": [
    "# Instanciando a classe\n",
    "\n",
    "meu_primeiro_carro = Carro('Fusca', 'VW', 'Azul', '1973')\n",
    "meu_carro_de_trabalho = Carro('Uno', 'Fiat', 'Branco', '1986')\n"
   ]
  },
  {
   "cell_type": "code",
   "execution_count": 23,
   "metadata": {},
   "outputs": [
    {
     "data": {
      "text/plain": [
       "'1974'"
      ]
     },
     "execution_count": 23,
     "metadata": {},
     "output_type": "execute_result"
    }
   ],
   "source": [
    "# Editando na classe o ano\n",
    "\n",
    "meu_primeiro_carro.set_ano('1974')\n",
    "meu_primeiro_carro.get_ano()"
   ]
  },
  {
   "cell_type": "code",
   "execution_count": 24,
   "metadata": {},
   "outputs": [
    {
     "data": {
      "text/plain": [
       "False"
      ]
     },
     "execution_count": 24,
     "metadata": {},
     "output_type": "execute_result"
    }
   ],
   "source": [
    "meu_primeiro_carro.set_ligado(False)\n",
    "meu_primeiro_carro.get_info_carro()"
   ]
  },
  {
   "cell_type": "code",
   "execution_count": 25,
   "metadata": {},
   "outputs": [
    {
     "data": {
      "text/plain": [
       "True"
      ]
     },
     "execution_count": 25,
     "metadata": {},
     "output_type": "execute_result"
    }
   ],
   "source": [
    "meu_primeiro_carro.set_ligado(True)\n",
    "meu_primeiro_carro.get_info_carro()"
   ]
  }
 ],
 "metadata": {
  "kernelspec": {
   "display_name": "venv1",
   "language": "python",
   "name": "python3"
  },
  "language_info": {
   "codemirror_mode": {
    "name": "ipython",
    "version": 3
   },
   "file_extension": ".py",
   "mimetype": "text/x-python",
   "name": "python",
   "nbconvert_exporter": "python",
   "pygments_lexer": "ipython3",
   "version": "3.12.6"
  }
 },
 "nbformat": 4,
 "nbformat_minor": 2
}
