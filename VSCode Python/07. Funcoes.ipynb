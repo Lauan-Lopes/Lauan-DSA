{
 "cells": [
  {
   "cell_type": "markdown",
   "metadata": {},
   "source": [
    "07. Funcoes"
   ]
  },
  {
   "cell_type": "markdown",
   "metadata": {},
   "source": [
    "07.02. Tipos de funcoes"
   ]
  },
  {
   "cell_type": "code",
   "execution_count": 9,
   "metadata": {},
   "outputs": [
    {
     "name": "stdout",
     "output_type": "stream",
     "text": [
      "15\n",
      "55\n"
     ]
    }
   ],
   "source": [
    "#funcoes integradas\n",
    "\n",
    "texto = \"Hello, world!!!\"\n",
    "comprimento = len(texto)\n",
    "print(comprimento)\n",
    "\n",
    "numeros = [1,2,3,4,5,6,7,8,9,10]\n",
    "soma = sum(numeros)\n",
    "\n",
    "print(soma)\n"
   ]
  },
  {
   "cell_type": "code",
   "execution_count": 15,
   "metadata": {},
   "outputs": [
    {
     "data": {
      "text/plain": [
       "16.0"
      ]
     },
     "execution_count": 15,
     "metadata": {},
     "output_type": "execute_result"
    }
   ],
   "source": [
    "#funcoes de terceiros...quando importamos\n",
    "\n",
    "import math\n",
    "\n",
    "numero = 25\n",
    "\n",
    "raiz_quadrada = math.sqrt(numero)\n",
    "\n",
    "raiz_quadrada\n",
    "\n",
    "numero2 = 4\n",
    "\n",
    "potencia = math.pow(numero2,2)\n",
    "\n",
    "potencia"
   ]
  },
  {
   "cell_type": "code",
   "execution_count": 3,
   "metadata": {},
   "outputs": [],
   "source": [
    "#funcoes proprias\n",
    "\n",
    "def calcular_quadrado(numero):\n",
    "    quadrado = numero ** 2\n",
    "    return quadrado"
   ]
  },
  {
   "cell_type": "code",
   "execution_count": 11,
   "metadata": {},
   "outputs": [
    {
     "name": "stdout",
     "output_type": "stream",
     "text": [
      "Nao retorna nada\n"
     ]
    }
   ],
   "source": [
    "def nao_retorna_nada():\n",
    "    print(\"Nao retorna nada\")\n",
    "\n",
    "nao_retorna_nada()"
   ]
  },
  {
   "cell_type": "markdown",
   "metadata": {},
   "source": [
    "07.03. Escopo de variaveis em funcoes"
   ]
  },
  {
   "cell_type": "code",
   "execution_count": 21,
   "metadata": {},
   "outputs": [
    {
     "name": "stdout",
     "output_type": "stream",
     "text": [
      "dentro da funcao\n",
      "variavel global\n",
      "variavel local\n",
      "\n",
      "fora da funcao\n",
      "variavel global\n",
      "Erro: name 'mensagem2' is not defined\n"
     ]
    }
   ],
   "source": [
    "#variavel de fora do escopo da funcao pode ser chamada em qualquer lugar do codigo\n",
    "mensagem1 = \"variavel global\"\n",
    "\n",
    "#definindo a funcao\n",
    "def minhafuncao():\n",
    "    print(\"dentro da funcao\")\n",
    "    print(mensagem1)\n",
    "\n",
    "#variavel de dentro do escopo da funcao so pode ser chamada dentro da funcao\n",
    "    mensagem2 = \"variavel local\"\n",
    "    print(mensagem2)\n",
    "\n",
    "#chamando a funcao\n",
    "minhafuncao()\n",
    "\n",
    "print(\"\\nfora da funcao\") #\\n pula uma linha\n",
    "print(mensagem1) \n",
    "\n",
    "try:\n",
    "    print(mensagem2)\n",
    "except NameError as e:\n",
    "    print(f\"Erro: {e}\")"
   ]
  },
  {
   "cell_type": "markdown",
   "metadata": {},
   "source": [
    "07.04. Parametros em funcoes"
   ]
  },
  {
   "cell_type": "code",
   "execution_count": 22,
   "metadata": {},
   "outputs": [],
   "source": [
    "#funcao com parametros\n",
    "\n",
    "def saudacao(nome, saudacao_padrao = \"Ola,\"):\n",
    "    print(saudacao_padrao, nome)"
   ]
  },
  {
   "cell_type": "code",
   "execution_count": 25,
   "metadata": {},
   "outputs": [
    {
     "name": "stdout",
     "output_type": "stream",
     "text": [
      "Seja bem vindo, Lauan\n",
      "Ola, Lauan\n"
     ]
    }
   ],
   "source": [
    "saudacao(\"Lauan\", \"Seja bem vindo,\")\n",
    "saudacao(\"Lauan\",)"
   ]
  },
  {
   "cell_type": "code",
   "execution_count": 26,
   "metadata": {},
   "outputs": [],
   "source": [
    "precos_manutencao = {\n",
    "    \"Troca de Oleo\": 50,\n",
    "    \"Filtro de ar\": 20,\n",
    "    \"Pastilhas de freio\": 80,\n",
    "    \"Bateria\": 100,\n",
    "    \"Alinhamento\": 60\n",
    "} \n",
    "\n",
    "\n",
    "def calcular(dicionario):\n",
    "    for item, valor in dicionario.items(): #retorna uma tupla e nomeia cada coluna da tupla como item e valor\n",
    "        print(f\"Item: {item}, Valor: {valor}\")\n",
    "\n",
    " "
   ]
  },
  {
   "cell_type": "code",
   "execution_count": 27,
   "metadata": {},
   "outputs": [
    {
     "name": "stdout",
     "output_type": "stream",
     "text": [
      "Item: Troca de Oleo, Valor: 50\n",
      "Item: Filtro de ar, Valor: 20\n",
      "Item: Pastilhas de freio, Valor: 80\n",
      "Item: Bateria, Valor: 100\n",
      "Item: Alinhamento, Valor: 60\n"
     ]
    }
   ],
   "source": [
    "calcular(precos_manutencao)"
   ]
  },
  {
   "cell_type": "markdown",
   "metadata": {},
   "source": [
    "07.05. Lista de parametros"
   ]
  },
  {
   "cell_type": "code",
   "execution_count": 29,
   "metadata": {},
   "outputs": [],
   "source": [
    "def calcular_cesta(*valor): #* significa lista de valor nao no formato de lista mas sim como parametros\n",
    "     print(valor)\n"
   ]
  },
  {
   "cell_type": "code",
   "execution_count": 33,
   "metadata": {},
   "outputs": [
    {
     "name": "stdout",
     "output_type": "stream",
     "text": [
      "(10, 3, 60, 0, 6, 3, 4, 9, 6)\n",
      "([1, 2, 3, 4, 5, 6, 7, 8, 9, 10],)\n"
     ]
    }
   ],
   "source": [
    "calcular_cesta(10, 3, 60, 0, 6, 3, 4, 9, 6) # numeros como parametros\n",
    "\n",
    "lista = [1,2,3,4,5,6,7,8,9,10]\n",
    "\n",
    "calcular_cesta(lista)"
   ]
  },
  {
   "cell_type": "markdown",
   "metadata": {},
   "source": [
    "07.06. Criando sua funcao"
   ]
  },
  {
   "cell_type": "code",
   "execution_count": 2,
   "metadata": {},
   "outputs": [
    {
     "name": "stdout",
     "output_type": "stream",
     "text": [
      "50\n"
     ]
    }
   ],
   "source": [
    "#Criando um dicionario com precos de manutencao\n",
    "precos_manutencao = {\n",
    "    \"Troca de Oleo\": 50,\n",
    "    \"Filtro de ar\": 20,\n",
    "    \"Pastilhas de freio\": 80,\n",
    "    \"Bateria\": 100,\n",
    "    \"Alinhamento\": 60\n",
    "} \n",
    "\n",
    "\n",
    "#Funcao para calcular o custo total da manutencao\n",
    "\n",
    "def calcular_preco_pedido_manutencao(pedido_servico):\n",
    "\n",
    "    preco_total = 0\n",
    "\n",
    "    for item, preco in precos_manutencao.items():\n",
    "        if item in pedido_servico:\n",
    "            preco_total += preco\n",
    "    \n",
    "    return preco_total\n",
    "\n",
    "pedido_servico = [\"Troca de Oleo\"]\n",
    "total = calcular_preco_pedido_manutencao(pedido_servico)\n",
    "print(total)\n"
   ]
  },
  {
   "cell_type": "code",
   "execution_count": 3,
   "metadata": {},
   "outputs": [
    {
     "name": "stdout",
     "output_type": "stream",
     "text": [
      "140\n"
     ]
    }
   ],
   "source": [
    "pedido_servico = [\"Pastilhas de freio\", \"Alinhamento\"]\n",
    "\n",
    "total = calcular_preco_pedido_manutencao(pedido_servico)\n",
    "print(total)\n"
   ]
  },
  {
   "cell_type": "code",
   "execution_count": 3,
   "metadata": {},
   "outputs": [],
   "source": [
    "#criando um dicionario com tempos de manutencao\n",
    "tempo_manutencao = {\n",
    "    \"Troca de Oleo\": 30,\n",
    "    \"Filtro de ar\": 15,\n",
    "    \"Pastilhas de freio\": 45,\n",
    "    \"Bateria\": 60,\n",
    "    \"Alinhamento\": 40\n",
    "} \n",
    "\n",
    "pedido_servico = [\"Troca de Oleo\", \"Bateria\"]\n",
    "tempo_total = 0 \n",
    "\n",
    "def calcular_tempo_pedido_manutencao(pedido_servico):\n",
    "\n",
    "    tempo_total = 0\n",
    "\n",
    "    for item, tempo in tempo_manutencao.items():\n",
    "        if item in pedido_servico:\n",
    "            tempo_total += tempo\n",
    "\n",
    "    return tempo_total\n",
    "\n",
    "# Funcao para calcular o tempo total de manutencao\n",
    "pedido_servico = [\"Troca de Oleo\", \"Alinhamento\"]\n",
    "calcular_tempo_pedido_manutencao(pedido_servico)\n"
   ]
  },
  {
   "cell_type": "code",
   "execution_count": 5,
   "metadata": {},
   "outputs": [
    {
     "data": {
      "text/plain": [
       "70"
      ]
     },
     "execution_count": 5,
     "metadata": {},
     "output_type": "execute_result"
    }
   ],
   "source": [
    "pedido_servico = [\"Troca de Oleo\", \"Alinhamento\"]\n",
    "calcular_tempo_pedido_manutencao(pedido_servico)"
   ]
  },
  {
   "cell_type": "code",
   "execution_count": 21,
   "metadata": {},
   "outputs": [],
   "source": [
    "# Funcao principal para fazer o pedido de manutencao\n",
    "\n",
    "def fazer_pedido_manutencao(pedido_servico):\n",
    "\n",
    "    custo_total = calcular_preco_pedido_manutencao(pedido_servico)\n",
    "    tempo_total = calcular_tempo_pedido_manutencao(pedido_servico)\n",
    "\n",
    "\n",
    "    print(\"Lauan Car Auto Center\")\n",
    "    print(\"------------------------------------\")\n",
    "    print(\"Itens de manutencao:\")\n",
    "    for item in pedido_servico:\n",
    "        print(f\"{item} R${precos_manutencao[item]} +- Tempo:{tempo_manutencao[item]} min.\")\n",
    "\n",
    "\n",
    "    print(\"------------------------------------\")\n",
    "    print(f\"Valor total = R$ {custo_total}\")\n",
    "    print(f\"Tempo total = {tempo_total} minutos\")"
   ]
  },
  {
   "cell_type": "code",
   "execution_count": 22,
   "metadata": {},
   "outputs": [
    {
     "name": "stdout",
     "output_type": "stream",
     "text": [
      "Lauan Car Auto Center\n",
      "------------------------------------\n",
      "Itens de manutencao:\n",
      "Troca de Oleo R$50 +- Tempo:30 min.\n",
      "Alinhamento R$60 +- Tempo:40 min.\n",
      "------------------------------------\n",
      "Valor total = R$ 110\n",
      "Tempo total = 70 minutos\n"
     ]
    }
   ],
   "source": [
    "pedido_servico = [\"Troca de Oleo\", \"Alinhamento\"]\n",
    "fazer_pedido_manutencao(pedido_servico)"
   ]
  },
  {
   "cell_type": "code",
   "execution_count": 5,
   "metadata": {},
   "outputs": [
    {
     "name": "stdout",
     "output_type": "stream",
     "text": [
      "8\n"
     ]
    }
   ],
   "source": [
    "def soma(a,b):\n",
    "    return a + b\n",
    "resultado = soma(3,5)\n",
    "print(resultado)"
   ]
  },
  {
   "cell_type": "code",
   "execution_count": 9,
   "metadata": {},
   "outputs": [
    {
     "name": "stdout",
     "output_type": "stream",
     "text": [
      "24\n"
     ]
    }
   ],
   "source": [
    "def multiplicacao(lista):\n",
    "    resultado = 1\n",
    "    for num in lista:\n",
    "        resultado *= num\n",
    "    return resultado\n",
    "valores = [2,3,4]\n",
    "print(multiplicacao(valores))"
   ]
  },
  {
   "cell_type": "code",
   "execution_count": 21,
   "metadata": {},
   "outputs": [
    {
     "name": "stdout",
     "output_type": "stream",
     "text": [
      "<function par_ou_impar at 0x0000024A7B572E80>\n",
      "impar\n"
     ]
    }
   ],
   "source": [
    "def par_ou_impar(numero):\n",
    "    if numero %2 == 0:\n",
    "        return \"par\"\n",
    "    else:\n",
    "        return \"impar\"\n",
    "resposta = par_ou_impar \n",
    "print(resposta)\n",
    "\n",
    "resposta = par_ou_impar(7)\n",
    "print(resposta)"
   ]
  },
  {
   "cell_type": "code",
   "execution_count": 23,
   "metadata": {},
   "outputs": [
    {
     "name": "stdout",
     "output_type": "stream",
     "text": [
      "7.5\n"
     ]
    }
   ],
   "source": [
    "def media(lista):\n",
    "    total = sum(lista)\n",
    "    quantidade = len(lista)\n",
    "    if quantidade != 0:\n",
    "        return total / quantidade\n",
    "    else:\n",
    "        return 0\n",
    "notas = [8,7,9,6]\n",
    "print(media(notas))"
   ]
  },
  {
   "cell_type": "code",
   "execution_count": null,
   "metadata": {},
   "outputs": [],
   "source": []
  }
 ],
 "metadata": {
  "kernelspec": {
   "display_name": "venv1",
   "language": "python",
   "name": "python3"
  },
  "language_info": {
   "codemirror_mode": {
    "name": "ipython",
    "version": 3
   },
   "file_extension": ".py",
   "mimetype": "text/x-python",
   "name": "python",
   "nbconvert_exporter": "python",
   "pygments_lexer": "ipython3",
   "version": "3.12.6"
  }
 },
 "nbformat": 4,
 "nbformat_minor": 2
}
